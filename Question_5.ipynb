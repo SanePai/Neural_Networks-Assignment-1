{
  "nbformat": 4,
  "nbformat_minor": 0,
  "metadata": {
    "colab": {
      "name": "Question 5.ipynb",
      "provenance": [],
      "collapsed_sections": [],
      "mount_file_id": "1Ci3vk0b000ww24s5HtzZ7IS0i3FTuuPA",
      "authorship_tag": "ABX9TyPblDqJWuyXWwmN1nZ8pKf9",
      "include_colab_link": true
    },
    "kernelspec": {
      "name": "python3",
      "display_name": "Python 3"
    }
  },
  "cells": [
    {
      "cell_type": "markdown",
      "metadata": {
        "id": "view-in-github",
        "colab_type": "text"
      },
      "source": [
        "<a href=\"https://colab.research.google.com/github/SanePai/Neural_Networks-Assignment-1/blob/master/Question_5.ipynb\" target=\"_parent\"><img src=\"https://colab.research.google.com/assets/colab-badge.svg\" alt=\"Open In Colab\"/></a>"
      ]
    },
    {
      "cell_type": "code",
      "metadata": {
        "id": "6Tz6s4Dh_7Dq",
        "outputId": "4ba9a64b-bfa8-46ca-f919-2a02c0c1846d",
        "colab": {
          "base_uri": "https://localhost:8080/",
          "height": 87
        }
      },
      "source": [
        "%cd \"/content/drive/My Drive/NNFL\"\n",
        "!ls"
      ],
      "execution_count": 1,
      "outputs": [
        {
          "output_type": "stream",
          "text": [
            "/content/drive/My Drive/NNFL\n",
            "assignment1.pdf  data4.xlsx\t\t   training_feature_matrix.xlsx\n",
            "data2.xlsx\t test_feature_matrix.xlsx  training_output.xlsx\n",
            "data3.xlsx\t test_output.xlsx\n"
          ],
          "name": "stdout"
        }
      ]
    },
    {
      "cell_type": "code",
      "metadata": {
        "id": "IyZPvAPVVSJT"
      },
      "source": [
        "import pandas as pd\n",
        "import random\n",
        "import numpy as np\n",
        "import matplotlib.pyplot as plt\n",
        "from scipy import linalg\n",
        "import math"
      ],
      "execution_count": 2,
      "outputs": []
    },
    {
      "cell_type": "markdown",
      "metadata": {
        "id": "GipVaWKujcf2"
      },
      "source": [
        "# LINEAR REGRESSION(NO REGULARIZATION)"
      ]
    },
    {
      "cell_type": "code",
      "metadata": {
        "id": "rXww7zeaVdtJ"
      },
      "source": [
        "X1 = pd.read_excel(\"training_feature_matrix.xlsx\", header=None)\n",
        "Y1 = pd.read_excel(\"training_output.xlsx\",header=None)"
      ],
      "execution_count": 3,
      "outputs": []
    },
    {
      "cell_type": "code",
      "metadata": {
        "id": "gFcTBbGebrdp"
      },
      "source": [
        "#Normalization is not necessaary when using Normal Equation\n",
        "# X1 = (X1 - X1.mean())/X1.std()\n",
        "# Y1 = (Y1-Y1.mean())/Y1.std()\n",
        "X1 = np.array(X1)\n",
        "Y1 = np.array(Y1)\n",
        "# Y_mean = Y1.mean()\n",
        "# Y_std = Y1.std()\n",
        "m = len(X1) #Number of instances\n",
        "col = np.ones((m,1)) \n",
        "X1 = np.concatenate((col,X1),axis=1)"
      ],
      "execution_count": 4,
      "outputs": []
    },
    {
      "cell_type": "code",
      "metadata": {
        "id": "J53gIL8Cbv9V"
      },
      "source": [
        "X = X1.copy()\n",
        "Y = Y1.copy()"
      ],
      "execution_count": 5,
      "outputs": []
    },
    {
      "cell_type": "code",
      "metadata": {
        "id": "OXpd3YzXb7sO"
      },
      "source": [
        "def hypothesis(w,X):\n",
        "  '''Funnction to calculate the hypothesis'''\n",
        "  h = np.dot(X,w)\n",
        "  return (h)\n",
        "\n",
        "def cost(h,Y):\n",
        "  # J = 0.5*np.dot(np.transpose(Y - h),(Y-h))\n",
        "  J = 0.5* np.linalg.norm(Y-h,2)\n",
        "  return J\n",
        "\n",
        "def calc_weights(X,Y):\n",
        "  '''Calculates weight analytically instead of using any iterative method'''\n",
        "  w  = np.dot(np.linalg.pinv(np.dot(np.transpose(X), X)), np.dot(np.transpose(X), Y))\n",
        "  return w"
      ],
      "execution_count": 6,
      "outputs": []
    },
    {
      "cell_type": "code",
      "metadata": {
        "id": "7cMBketLb8UG",
        "outputId": "654ac742-1c88-4c2f-f5d8-d59680fb3fde",
        "colab": {
          "base_uri": "https://localhost:8080/",
          "height": 105
        }
      },
      "source": [
        "w = calc_weights(X,Y)\n",
        "print(\"Final Weights:\", w)\n",
        "h = hypothesis(w,X) \n",
        "J = cost(h,Y)\n",
        "print(\"Cost(Training):\", J)\n",
        "#MSE Calculation\n",
        "t = Y - h\n",
        "MSE_train = np.sum(np.square(t))/m\n",
        "print(\"MSE for training data:\", MSE_train)"
      ],
      "execution_count": 7,
      "outputs": [
        {
          "output_type": "stream",
          "text": [
            "Final Weights: [[1.12440908e+01]\n",
            " [6.04224645e-03]\n",
            " [4.31499476e-03]]\n",
            "Cost(Training): 30.31705362439575\n",
            "MSE for training data: 15.006101885134488\n"
          ],
          "name": "stdout"
        }
      ]
    },
    {
      "cell_type": "code",
      "metadata": {
        "id": "stONZqjszVZk"
      },
      "source": [
        ""
      ],
      "execution_count": 7,
      "outputs": []
    },
    {
      "cell_type": "code",
      "metadata": {
        "id": "j4qpSPKNg2CF"
      },
      "source": [
        "#Using the hypothesis on the given test data\n",
        "X1_test = pd.read_excel(\"test_feature_matrix.xlsx\", header = None)\n",
        "Y1_test = pd.read_excel(\"test_output.xlsx\", header = None)\n",
        "#Normalize\n",
        "# X1_test = (X1_test-X1_test.mean())/X1_test.std()\n",
        "# X1_test = np.array(X1_test)\n",
        "Y1_test = np.array(Y1_test)\n",
        "m_test = len(X1_test)\n",
        "# av = Y1_test.mean()\n",
        "# va = Y1_test.std()\n",
        "col = np.ones((m_test,1)) \n",
        "X1_test = np.concatenate((col,X1_test),axis=1)\n",
        "X_test = X1_test.copy()\n",
        "Y_test = Y1_test.copy()"
      ],
      "execution_count": 8,
      "outputs": []
    },
    {
      "cell_type": "code",
      "metadata": {
        "id": "EKyhxYj3mSXc",
        "outputId": "17e8ff15-da52-4598-a399-4aa2bb14dacb",
        "colab": {
          "base_uri": "https://localhost:8080/",
          "height": 34
        }
      },
      "source": [
        "h_test = hypothesis(w,X_test)\n",
        "t = Y_test - h_test\n",
        "mse = np.sum(np.square(t))/m\n",
        "print(mse)"
      ],
      "execution_count": 9,
      "outputs": [
        {
          "output_type": "stream",
          "text": [
            "17.054135979307006\n"
          ],
          "name": "stdout"
        }
      ]
    },
    {
      "cell_type": "markdown",
      "metadata": {
        "id": "r7SfjL042Aia"
      },
      "source": [
        "# RIDGE REGRESSION\n"
      ]
    },
    {
      "cell_type": "code",
      "metadata": {
        "id": "57DAKQaM2LQX"
      },
      "source": [
        "X1 = pd.read_excel(\"training_feature_matrix.xlsx\", header=None)\n",
        "Y1 = pd.read_excel(\"training_output.xlsx\",header=None)"
      ],
      "execution_count": 10,
      "outputs": []
    },
    {
      "cell_type": "code",
      "metadata": {
        "id": "dvUI2gPX2NL7"
      },
      "source": [
        "X1 = np.array(X1)\n",
        "Y1 = np.array(Y1)\n",
        "Y_mean = Y1.mean()\n",
        "Y_std = Y1.std()\n",
        "m = len(X1) #Number of instances\n",
        "col = np.ones((m,1)) \n",
        "X1 = np.concatenate((col,X1),axis=1)"
      ],
      "execution_count": 11,
      "outputs": []
    },
    {
      "cell_type": "code",
      "metadata": {
        "id": "SrwjG6Cr2Pnz"
      },
      "source": [
        "X = X1.copy()\n",
        "Y = Y1.copy()\n",
        "lam = 5"
      ],
      "execution_count": 12,
      "outputs": []
    },
    {
      "cell_type": "code",
      "metadata": {
        "id": "t_xxBWw62TFd"
      },
      "source": [
        "def hypothesis(w,X):\n",
        "  '''Funnction to calculate the hypothesis'''\n",
        "  h = np.dot(X,w)\n",
        "  return (h)\n",
        "\n",
        "def cost(h,Y,lam):\n",
        "  J = 0.5*(np.linalg.norm(Y-h,2) + lam*np.linalg.norm(w,2))\n",
        "  return J\n",
        "\n",
        "def calc_weights(X,Y,m,lam):\n",
        "  '''Calculates weight analytically instead of using any iterative method'''\n",
        "  w  = np.dot(np.linalg.pinv(np.dot(np.transpose(X), X) + lam*np.eye(3)), np.dot(np.transpose(X), Y))\n",
        "  return w"
      ],
      "execution_count": 13,
      "outputs": []
    },
    {
      "cell_type": "code",
      "metadata": {
        "id": "5lCS_ITh4sle",
        "outputId": "495a85af-da1a-4c0e-e860-8c37fec868d4",
        "colab": {
          "base_uri": "https://localhost:8080/",
          "height": 105
        }
      },
      "source": [
        "w = calc_weights(X,Y,m,lam)\n",
        "print(\"Final Weights:\", w)\n",
        "h = hypothesis(w,X) \n",
        "J = cost(h,Y,lam)\n",
        "print(\"Cost(Training):\", J)\n",
        "#MSE Calculation\n",
        "t = Y - h\n",
        "MSE_train = np.sum(np.square(t))/m\n",
        "print(\"MSE for training data:\", MSE_train)"
      ],
      "execution_count": 14,
      "outputs": [
        {
          "output_type": "stream",
          "text": [
            "Final Weights: [[ 6.66414312e+00]\n",
            " [-1.83411783e-03]\n",
            " [ 7.65626894e-03]]\n",
            "Cost(Training): 47.60023811267533\n",
            "MSE for training data: 15.628987326159724\n"
          ],
          "name": "stdout"
        }
      ]
    },
    {
      "cell_type": "code",
      "metadata": {
        "id": "7idCd9TO4wsa"
      },
      "source": [
        "#Using the hypothesis on the given test data\n",
        "X1_test = pd.read_excel(\"test_feature_matrix.xlsx\", header = None)\n",
        "Y1_test = pd.read_excel(\"test_output.xlsx\", header = None)\n",
        "#Normalize\n",
        "# X1_test = (X1_test-X1_test.mean())/X1_test.std()\n",
        "X1_test = np.array(X1_test)\n",
        "Y1_test = np.array(Y1_test)\n",
        "m_test = len(X1_test)\n",
        "# av = Y1_test.mean()\n",
        "# va = Y1_test.std()\n",
        "col = np.ones((m_test,1)) \n",
        "X1_test = np.concatenate((col,X1_test),axis=1)\n",
        "X_test = X1_test.copy()\n",
        "Y_test = Y1_test.copy()"
      ],
      "execution_count": 15,
      "outputs": []
    },
    {
      "cell_type": "code",
      "metadata": {
        "id": "Eq1Crggx8CAP",
        "outputId": "d9f1dab8-e817-4380-d1b3-06d46ca9d409",
        "colab": {
          "base_uri": "https://localhost:8080/",
          "height": 34
        }
      },
      "source": [
        "h_test = hypothesis(w,X_test)\n",
        "t = Y_test - h_test\n",
        "mse = np.sum(np.square(t))/m\n",
        "print(mse)"
      ],
      "execution_count": 16,
      "outputs": [
        {
          "output_type": "stream",
          "text": [
            "14.845764080029259\n"
          ],
          "name": "stdout"
        }
      ]
    },
    {
      "cell_type": "markdown",
      "metadata": {
        "id": "_4fswMbmA0U4"
      },
      "source": [
        "# LAR"
      ]
    },
    {
      "cell_type": "code",
      "metadata": {
        "id": "A3rmXZWGA7Oh"
      },
      "source": [
        "X1 = pd.read_excel(\"training_feature_matrix.xlsx\", header=None)\n",
        "Y1 = pd.read_excel(\"training_output.xlsx\",header=None)"
      ],
      "execution_count": 17,
      "outputs": []
    },
    {
      "cell_type": "code",
      "metadata": {
        "id": "r3x8_S6pBGEm"
      },
      "source": [
        "X1 = np.array(X1)\n",
        "Y1 = np.array(Y1)\n",
        "Y_mean = Y1.mean()\n",
        "Y_std = Y1.std()\n",
        "m = len(X1) #Number of instances\n",
        "col = np.ones((m,1)) \n",
        "X1 = np.concatenate((col,X1),axis=1)"
      ],
      "execution_count": 18,
      "outputs": []
    },
    {
      "cell_type": "code",
      "metadata": {
        "id": "DOSi0X79BGEo"
      },
      "source": [
        "X = X1.copy()\n",
        "Y = Y1.copy()\n",
        "lam = 5"
      ],
      "execution_count": 19,
      "outputs": []
    },
    {
      "cell_type": "code",
      "metadata": {
        "id": "kRlrV46bVtIy"
      },
      "source": [
        ""
      ],
      "execution_count": 19,
      "outputs": []
    },
    {
      "cell_type": "code",
      "metadata": {
        "id": "PPxBCv7fBGEq"
      },
      "source": [
        "def hypothesis(w,X):\n",
        "  '''Funnction to calculate the hypothesis'''\n",
        "  h = np.dot(X,w)\n",
        "  return (h)\n",
        "\n",
        "def cost(h,Y,lam):\n",
        "  J = 0.5*(np.linalg.norm(Y-h,2) + lam*np.linalg.norm(w,1))\n",
        "  return J\n",
        "\n",
        "def calc_weights(X,Y,m,lam):\n",
        "  '''Calculates weight analytically instead of using any iterative method'''\n",
        "  w = np.dot(np.linalg.pinv(np.dot(np.transpose(X), X)), (np.dot(np.transpose(X), Y) - 0.5*lam*np.array([1,1,1]).reshape(3,1)))\n",
        "  return w"
      ],
      "execution_count": 20,
      "outputs": []
    },
    {
      "cell_type": "code",
      "metadata": {
        "id": "b6qYr4LiBGEs",
        "outputId": "56fc7517-4278-47e8-a5e8-44848bf823e2",
        "colab": {
          "base_uri": "https://localhost:8080/",
          "height": 105
        }
      },
      "source": [
        "w = calc_weights(X,Y,m,lam)\n",
        "print(\"Final Weights:\", w)\n",
        "h = hypothesis(w,X) \n",
        "J = cost(h,Y,lam)\n",
        "print(\"Cost(Training):\", J)\n",
        "#MSE Calculation\n",
        "t = Y - h\n",
        "MSE_train = np.sum(np.square(t))/m\n",
        "print(\"MSE for training data:\", MSE_train)"
      ],
      "execution_count": 21,
      "outputs": [
        {
          "output_type": "stream",
          "text": [
            "Final Weights: [[1.09001239e+01]\n",
            " [5.43834701e-03]\n",
            " [4.56592818e-03]]\n",
            "Cost(Training): 57.59592303912608\n",
            "MSE for training data: 15.009615352769728\n"
          ],
          "name": "stdout"
        }
      ]
    },
    {
      "cell_type": "code",
      "metadata": {
        "id": "srJq6nRzBGEw"
      },
      "source": [
        "#Using the hypothesis on the given test data\n",
        "X1_test = pd.read_excel(\"test_feature_matrix.xlsx\", header = None)\n",
        "Y1_test = pd.read_excel(\"test_output.xlsx\", header = None)\n",
        "#Normalize\n",
        "# X1_test = (X1_test-X1_test.mean())/X1_test.std()\n",
        "X1_test = np.array(X1_test)\n",
        "Y1_test = np.array(Y1_test)\n",
        "m_test = len(X1_test)\n",
        "# av = Y1_test.mean()\n",
        "# va = Y1_test.std()\n",
        "col = np.ones((m_test,1)) \n",
        "X1_test = np.concatenate((col,X1_test),axis=1)\n",
        "X_test = X1_test.copy()\n",
        "Y_test = Y1_test.copy()"
      ],
      "execution_count": 22,
      "outputs": []
    },
    {
      "cell_type": "code",
      "metadata": {
        "id": "Q6mqBokJBGEy",
        "outputId": "4989cc99-c9ff-48e2-9802-8fad7253274e",
        "colab": {
          "base_uri": "https://localhost:8080/",
          "height": 34
        }
      },
      "source": [
        "h_test = hypothesis(w,X_test)\n",
        "t = Y_test - h_test\n",
        "mse = np.sum(np.square(t))/m\n",
        "print(mse)"
      ],
      "execution_count": 23,
      "outputs": [
        {
          "output_type": "stream",
          "text": [
            "16.860227574901252\n"
          ],
          "name": "stdout"
        }
      ]
    }
  ]
}