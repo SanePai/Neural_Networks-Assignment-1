{
  "nbformat": 4,
  "nbformat_minor": 0,
  "metadata": {
    "colab": {
      "name": "Question 12.ipynb",
      "provenance": [],
      "collapsed_sections": [],
      "mount_file_id": "16YX9XvZB5ceyaA1zR4iR7-PbTnq3tFh0",
      "authorship_tag": "ABX9TyMp3/CV62/TTleKk0YAEtR/",
      "include_colab_link": true
    },
    "kernelspec": {
      "name": "python3",
      "display_name": "Python 3"
    }
  },
  "cells": [
    {
      "cell_type": "markdown",
      "metadata": {
        "id": "view-in-github",
        "colab_type": "text"
      },
      "source": [
        "<a href=\"https://colab.research.google.com/github/SanePai/Neural_Networks-Assignment-1/blob/master/Question_12.ipynb\" target=\"_parent\"><img src=\"https://colab.research.google.com/assets/colab-badge.svg\" alt=\"Open In Colab\"/></a>"
      ]
    },
    {
      "cell_type": "code",
      "metadata": {
        "id": "ZL39Vr_Ar3la",
        "outputId": "721689b6-f190-4b5e-effc-527b856e8911",
        "colab": {
          "base_uri": "https://localhost:8080/",
          "height": 87
        }
      },
      "source": [
        "%cd /content/drive/'My Drive'/NNFL\n",
        "!ls"
      ],
      "execution_count": null,
      "outputs": [
        {
          "output_type": "stream",
          "text": [
            "/content/drive/My Drive/NNFL\n",
            "assignment1.pdf  data4.xlsx\t\t   training_feature_matrix.xlsx\n",
            "data2.xlsx\t test_feature_matrix.xlsx  training_output.xlsx\n",
            "data3.xlsx\t test_output.xlsx\n"
          ],
          "name": "stdout"
        }
      ]
    },
    {
      "cell_type": "code",
      "metadata": {
        "id": "eK8JGcDYsi0B"
      },
      "source": [
        "import pandas as pd\n",
        "import math \n",
        "import numpy as np"
      ],
      "execution_count": null,
      "outputs": []
    },
    {
      "cell_type": "code",
      "metadata": {
        "id": "QmfTGZdssobZ"
      },
      "source": [
        "def col(array, i):\n",
        "  '''Returns a column'''\n",
        "  return [row[i] for row in array]\n",
        "\n",
        "def mean(array):\n",
        "  '''Returns the mean of an array''' \n",
        "  m = []\n",
        "  for i in range(7):\n",
        "    m.append(sum(col(array,i))/len(col(array,i)))\n",
        "  return m\n",
        "\n",
        "#LRT\n",
        "def rule(x_ts,x,y):\n",
        "  x1 = np.array([x[i] for (i, val) in enumerate(y) if val == 1])\n",
        "  x2 = np.array([x[i] for (i, val) in enumerate(y) if val == 2])\n",
        "  x3 = np.array([x[i] for (i, val) in enumerate(y) if val == 3])\n",
        "  m1 = mean(x1)\n",
        "  m2 = mean(x2)\n",
        "  m3 = mean(x3)\n",
        "  cov1 = np.cov(x1.T)\n",
        "  cov2 = np.cov(x2.T)\n",
        "  cov3 = np.cov(x3.T)\n",
        "  coeff1 = 1/(((2*3.14)**2)*np.linalg.det(cov1)**0.5)\n",
        "  coeff2 = 1/(((2*3.14)**2)*np.linalg.det(cov2)**0.5)\n",
        "  coeff3 = 1/(((2*3.14)**2)*np.linalg.det(cov3)**0.5)\n",
        "  # likelihoods P(x|y)\n",
        "  l1 = coeff1*np.exp(-0.5*np.dot(np.dot((x_ts - m1),np.linalg.inv(cov1)),(x_ts - m1).T))\n",
        "  l2 = coeff2*np.exp(-0.5*np.dot(np.dot((x_ts - m2),np.linalg.inv(cov2)),(x_ts - m2).T))\n",
        "  l3 = coeff3*np.exp(-0.5*np.dot(np.dot((x_ts - m3),np.linalg.inv(cov3)),(x_ts - m3).T))\n",
        "  if max(l1,l2,l3) == l1:\n",
        "      return 1\n",
        "  elif max(l1,l2,l3) == l2:\n",
        "      return 2\n",
        "  else:\n",
        "      return 3\n",
        " \n",
        "    \n",
        "def confmat(y_pred,y_ts):\n",
        "  a, b, c, d = 0, 0, 0, 0\n",
        "  for i in range(len(y_ts)):\n",
        "      if y_ts[i] == 1:\n",
        "          if y_pred[i] == 1:\n",
        "              a = a + 1\n",
        "          if y_pred[i] == 2:\n",
        "              b = b + 1\n",
        "      if y_ts[i] == 2:\n",
        "          if y_pred[i] == 1:\n",
        "              c = c + 1\n",
        "          if y_pred[i] == 2:\n",
        "              d = d + 1\n",
        "  return a, b, c, d"
      ],
      "execution_count": null,
      "outputs": []
    },
    {
      "cell_type": "code",
      "metadata": {
        "id": "qHnr_twhs9Iq",
        "outputId": "be5d056f-1cab-4665-8062-1a0a92c1b84b",
        "colab": {
          "base_uri": "https://localhost:8080/",
          "height": 34
        }
      },
      "source": [
        "data = pd.read_excel('data4.xlsx',header=None)\n",
        "data = np.asarray(data)\n",
        "np.random.shuffle(data)\n",
        "print(type(data))\n",
        "x = data[:,:-1]\n",
        "y = data[:,-1]\n",
        "x_tr, xts = x[:105], x[105:]\n",
        "y_tr, t_ts = y[:105], y[105:]"
      ],
      "execution_count": null,
      "outputs": [
        {
          "output_type": "stream",
          "text": [
            "<class 'numpy.ndarray'>\n"
          ],
          "name": "stdout"
        }
      ]
    },
    {
      "cell_type": "code",
      "metadata": {
        "id": "80esm6lvzdy8",
        "outputId": "26f3636d-30cd-4fb3-e720-9c5115fd306a",
        "colab": {
          "base_uri": "https://localhost:8080/",
          "height": 210
        }
      },
      "source": [
        "print(np.shape(y_tr), np.shape(y_ts))\n",
        "y_tr, y_ts"
      ],
      "execution_count": null,
      "outputs": [
        {
          "output_type": "stream",
          "text": [
            "(105,) (45,)\n"
          ],
          "name": "stdout"
        },
        {
          "output_type": "execute_result",
          "data": {
            "text/plain": [
              "(array([2., 2., 3., 3., 2., 1., 3., 3., 1., 2., 1., 2., 3., 3., 3., 1., 3.,\n",
              "        3., 3., 1., 2., 1., 2., 1., 2., 2., 2., 1., 3., 3., 2., 3., 3., 2.,\n",
              "        2., 3., 3., 1., 1., 1., 3., 1., 2., 2., 2., 3., 3., 2., 3., 3., 2.,\n",
              "        2., 3., 3., 2., 3., 2., 2., 1., 1., 2., 1., 2., 3., 1., 1., 2., 2.,\n",
              "        3., 3., 1., 2., 2., 3., 1., 2., 1., 3., 3., 2., 1., 3., 1., 1., 2.,\n",
              "        2., 3., 2., 1., 2., 1., 1., 2., 2., 2., 2., 3., 1., 3., 1., 1., 3.,\n",
              "        3., 2., 3.]),\n",
              " array([3., 2., 3., 2., 3., 1., 2., 3., 2., 1., 1., 2., 3., 2., 1., 3., 1.,\n",
              "        2., 1., 2., 3., 1., 3., 3., 1., 1., 3., 2., 3., 2., 3., 2., 2., 3.,\n",
              "        2., 2., 1., 2., 1., 1., 1., 3., 3., 3., 3.]))"
            ]
          },
          "metadata": {
            "tags": []
          },
          "execution_count": 76
        }
      ]
    },
    {
      "cell_type": "code",
      "metadata": {
        "id": "iQFX_HLQwLeh",
        "outputId": "14d374b2-2d03-40bf-b34a-bcc1bdaa0b51",
        "colab": {
          "base_uri": "https://localhost:8080/",
          "height": 105
        }
      },
      "source": [
        "y_pred = []\n",
        "for i in range(len(x_ts)):\n",
        "  y_pred.append(rule(x_ts[i],x_tr,y_tr))\n",
        "\n",
        "y_actual = pd.Series(y_ts, name='Actual')\n",
        "y_pred = pd.Series(y_pred, name='Predicted')\n",
        "confmat = pd.crosstab(y_actual, y_pred)\n",
        "print(confmat)\n",
        "confmat = np.asarray(confmat)\n",
        "Acc = (confmat[0][0] + confmat[1][1] + confmat[2][2])/sum(sum(confmat))\n",
        "Acc1 = confmat[0][0]/sum(confmat[0])\n",
        "Acc2 = confmat[1][1]/sum(confmat[1])\n",
        "Acc3 = confmat[2][2]/sum(confmat[2])"
      ],
      "execution_count": null,
      "outputs": [
        {
          "output_type": "stream",
          "text": [
            "Predicted   1   2   3\n",
            "Actual               \n",
            "1.0        13   0   0\n",
            "2.0         0  14   1\n",
            "3.0         0   0  17\n"
          ],
          "name": "stdout"
        }
      ]
    },
    {
      "cell_type": "code",
      "metadata": {
        "id": "1jeO_ZyNtIjj",
        "outputId": "9f289367-ba3c-4159-e95d-ace8a385c4ff",
        "colab": {
          "base_uri": "https://localhost:8080/",
          "height": 87
        }
      },
      "source": [
        "print('Overall Accuracy : ' + str(Acc))\n",
        "print('Accuracy of class 1 : ' + str(Acc1))\n",
        "print('Accuracy of class 2 : ' + str(Acc2))\n",
        "print('Accuracy of class 3 : ' + str(Acc3))"
      ],
      "execution_count": null,
      "outputs": [
        {
          "output_type": "stream",
          "text": [
            "Overall Accuracy : 0.9777777777777777\n",
            "Accuracy of class 1 : 1.0\n",
            "Accuracy of class 2 : 0.9333333333333333\n",
            "Accuracy of class 3 : 1.0\n"
          ],
          "name": "stdout"
        }
      ]
    }
  ]
}