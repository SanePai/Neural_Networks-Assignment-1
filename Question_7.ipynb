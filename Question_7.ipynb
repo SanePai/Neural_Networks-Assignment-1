{
  "nbformat": 4,
  "nbformat_minor": 0,
  "metadata": {
    "colab": {
      "name": "Question 7.ipynb",
      "provenance": [],
      "mount_file_id": "1NYMHqDrhrT6xD_6mXv-jFPxA5LP60jGD",
      "authorship_tag": "ABX9TyM9ES+MGV6WOgdEgbKOhh90",
      "include_colab_link": true
    },
    "kernelspec": {
      "name": "python3",
      "display_name": "Python 3"
    }
  },
  "cells": [
    {
      "cell_type": "markdown",
      "metadata": {
        "id": "view-in-github",
        "colab_type": "text"
      },
      "source": [
        "<a href=\"https://colab.research.google.com/github/SanePai/Neural_Networks-Assignment-1/blob/master/Question_7.ipynb\" target=\"_parent\"><img src=\"https://colab.research.google.com/assets/colab-badge.svg\" alt=\"Open In Colab\"/></a>"
      ]
    },
    {
      "cell_type": "code",
      "metadata": {
        "id": "gb-bfScjDOoE",
        "outputId": "d93f4469-6c33-4154-93b0-64b4a3cf00d9",
        "colab": {
          "base_uri": "https://localhost:8080/",
          "height": 87
        }
      },
      "source": [
        "%cd \"/content/drive/My Drive/NNFL\"\n",
        "!ls"
      ],
      "execution_count": 1,
      "outputs": [
        {
          "output_type": "stream",
          "text": [
            "/content/drive/My Drive/NNFL\n",
            "assignment1.pdf  data4.xlsx\t\t   training_feature_matrix.xlsx\n",
            "data2.xlsx\t test_feature_matrix.xlsx  training_output.xlsx\n",
            "data3.xlsx\t test_output.xlsx\n"
          ],
          "name": "stdout"
        }
      ]
    },
    {
      "cell_type": "code",
      "metadata": {
        "id": "4nTlrtiZD3lJ"
      },
      "source": [
        "import pandas as pd\n",
        "import random\n",
        "import numpy as np\n",
        "import matplotlib.pyplot as plt\n",
        "from numpy import linalg\n",
        "import math"
      ],
      "execution_count": 2,
      "outputs": []
    },
    {
      "cell_type": "code",
      "metadata": {
        "id": "osXAcVSgHBiy",
        "outputId": "b0d4e2ff-adc6-4ce0-b9c6-d1b6e812a566",
        "colab": {
          "base_uri": "https://localhost:8080/",
          "height": 34
        }
      },
      "source": [
        "def sigmoid(n):\n",
        "  '''returns the element wise sigmoid value in list'''\n",
        "  return 1/(1+np.exp(-n))\n",
        "\n",
        "df = pd.read_excel(\"data3.xlsx\", header = None)\n",
        "df = np.array(df)\n",
        "m = len(df) #Total instances\n",
        "col = np.ones((m,1))\n",
        "df = np.concatenate((col,df), axis = 1)\n",
        "np.random.shuffle(df)\n",
        "print(m)"
      ],
      "execution_count": 3,
      "outputs": [
        {
          "output_type": "stream",
          "text": [
            "100\n"
          ],
          "name": "stdout"
        }
      ]
    },
    {
      "cell_type": "code",
      "metadata": {
        "id": "wmRitqguHpPa"
      },
      "source": [
        "#Training set\n",
        "X_train = df[0:50,:-1]\n",
        "Y_train = df[0:50,-1]\n",
        "Y_train -= 1\n",
        "#Validation\n",
        "X_val = df[50:60,:-1]\n",
        "Y_val = df[50:60,-1]\n",
        "Y_val -= 1\n",
        "#Testing\n",
        "X_test = df[60:,:-1]\n",
        "Y_test = df[60:,-1]\n",
        "Y_test -= 1\n",
        "\n",
        "X = X_train.copy()\n",
        "Y = Y_train.copy()"
      ],
      "execution_count": 4,
      "outputs": []
    },
    {
      "cell_type": "code",
      "metadata": {
        "id": "rvG2euMxNCFB"
      },
      "source": [
        "k = 1500 #Iterations\n",
        "alpha_range = np.linspace(0.0001,0.001,10)\n",
        "m = len(X) #Training instances\n",
        "Y = Y_train.copy()\n",
        "W_list = np.ones((k,5))\n",
        "J_list = np.ones(k)\n",
        "MSE_list = np.ones(k)\n",
        "Y_mean = Y_train.mean()\n",
        "Y_std = Y_train.std()\n",
        "\n",
        "def hypothesis(w,X,m):\n",
        "  wtx = np.ones(m)\n",
        "  for i in range(0,m):\n",
        "    wtx[i] = w[0]*X[i][0] + w[1]*X[i][1] + w[2]*X[i][2] + w[3]*X[i][3] + w[4]*X[i][4]\n",
        "  h = sigmoid(wtx)\n",
        "  return h\n",
        "\n",
        "def cost(h,Y,m):\n",
        "  J = 0\n",
        "  for i in range(0,m):\n",
        "    J += (Y[i]*math.log10(h[i]) + (1-Y[i])*(math.log10(1 - h[i])))\n",
        "  J = J*(-1/m)\n",
        "  return J\n",
        "\n",
        "def update(w,alpha,m,X,Y,h):\n",
        "  '''Updates the weights'''\n",
        "  d0 = 0\n",
        "  d1 = 0\n",
        "  d2 = 0\n",
        "  d3 = 0\n",
        "  d4 = 0\n",
        "  for i in range(0,m):\n",
        "    d0 = d0 + ((h[i] - Y[i])*X[i][0])\n",
        "  for i in range(0,m):\n",
        "    d1 = d1 + ((h[i] - Y[i])*X[i][1])\n",
        "  for i in range(0,m):\n",
        "    d2 = d2 + ((h[i] - Y[i])*X[i][2])\n",
        "    d3 = d3 + ((h[i] - Y[i])*X[i][3])\n",
        "    d4 = d4 + ((h[i] - Y[i])*X[i][4])\n",
        "    \n",
        "  \n",
        "\n",
        "  t0 = w[0] - alpha*d0\n",
        "  t1 = w[1] - alpha*d1\n",
        "  t2 = w[2] - alpha*d2\n",
        "  t3 = w[3] - alpha*d3\n",
        "  t4 = w[4] - alpha*d4\n",
        "  \n",
        "  w[0]=t0\n",
        "  w[1]=t1\n",
        "  w[2]=t2\n",
        "  w[3]=t3\n",
        "  w[4]=t4\n",
        "  return w\n",
        "\n",
        "def denormalize(data,avg,vari):\n",
        "  '''Denormalize a list using the passed in mean and variation'''\n",
        "  data1 = []\n",
        "  for i in range(0,len(data)):\n",
        "    data1.append((data[i]*vari) + avg)\n",
        "  return data1\n",
        "\n",
        "def calc_mse(m, h, y):\n",
        "  '''Calculate the MSE for a given hypothesis and actual output'''\n",
        "  add = 0\n",
        "  for i in range(0,m):\n",
        "    add = add + (h[i] - y[i])**2\n",
        "  err = add/m\n",
        "  return err"
      ],
      "execution_count": 5,
      "outputs": []
    },
    {
      "cell_type": "code",
      "metadata": {
        "id": "M6DQesYfX41c"
      },
      "source": [
        "#Batch Gradient Descent\n",
        "MSE_grid = []\n",
        "for alpha in alpha_range:\n",
        "  w = np.random.rand(5)\n",
        "  W_list[0] = w\n",
        "  for i in range(0,k):\n",
        "    h = hypothesis(w,X,m)\n",
        "    J_list[i] = cost(h,Y,m)\n",
        "    w = update(w,alpha,m,X,Y,h)\n",
        "    W_list[i][0] = w[0]\n",
        "    W_list[i][1] = w[1]\n",
        "    W_list[i][2] = w[2]\n",
        "    W_list[i][3] = w[3]\n",
        "    W_list[i][4] = w[4]\n",
        "    MSE_list[i] = (calc_mse(m,denormalize(h,Y_mean,Y_std),denormalize(Y,Y_mean,Y_std)))\n",
        "  MSE_grid.append(MSE_list[-1])\n",
        "index = np.argmin(MSE_grid)\n",
        "alpha = alpha_range[index]\n",
        "\n",
        "#Final BGD\n",
        "w = np.random.rand(5)\n",
        "W_list[0] = w\n",
        "for i in range(0,k):\n",
        "  h = hypothesis(w,X,m)\n",
        "  J_list[i] = cost(h,Y,m)\n",
        "  w = update(w,alpha,m,X,Y,h)\n",
        "  W_list[i][0] = w[0]\n",
        "  W_list[i][1] = w[1]\n",
        "  W_list[i][2] = w[2]\n",
        "  MSE_list[i] = (calc_mse(m,denormalize(h,Y_mean,Y_std),denormalize(Y,Y_mean,Y_std)))"
      ],
      "execution_count": 6,
      "outputs": []
    },
    {
      "cell_type": "code",
      "metadata": {
        "id": "SSPusCnnYI-e",
        "outputId": "662bd149-647c-4c25-c8f2-2705360fe2be",
        "colab": {
          "base_uri": "https://localhost:8080/",
          "height": 34
        }
      },
      "source": [
        "def hyp_refine(h,m):\n",
        "  for i in range(0,m):\n",
        "    if h[i] < 0.5:\n",
        "      h[i] = 0\n",
        "    elif h[i] >= 0.5:\n",
        "      h[i] = 1\n",
        "hyp_refine(h,m)  \n",
        "S = (Y-h).tolist()\n",
        "S.count(0)\n",
        "print(S.count(0)/len(S)*100)"
      ],
      "execution_count": 7,
      "outputs": [
        {
          "output_type": "stream",
          "text": [
            "100.0\n"
          ],
          "name": "stdout"
        }
      ]
    },
    {
      "cell_type": "code",
      "metadata": {
        "id": "ufGQe1jTh8u0",
        "outputId": "9b6624d2-71cf-487e-824d-38c3266128d5",
        "colab": {
          "base_uri": "https://localhost:8080/",
          "height": 34
        }
      },
      "source": [
        "#Checking the accuracy of Validation set\n",
        "m_val = len(X_val)\n",
        "h_val = hypothesis(w,X_val,m_val)\n",
        "hyp_refine(h_val,m_val)\n",
        "S = (Y-h).tolist()\n",
        "S.count(0)\n",
        "print(S.count(0)/len(S)*100)"
      ],
      "execution_count": 8,
      "outputs": [
        {
          "output_type": "stream",
          "text": [
            "100.0\n"
          ],
          "name": "stdout"
        }
      ]
    },
    {
      "cell_type": "code",
      "metadata": {
        "id": "GunWEjoQi_bS",
        "outputId": "f228dd5e-af68-44ed-bc0a-1e5b3e9b0efb",
        "colab": {
          "base_uri": "https://localhost:8080/",
          "height": 70
        }
      },
      "source": [
        "#Accuracies are the same. The model is robust.\n",
        "#Using the hypothesis on the training data\n",
        "m_test = len(X_test)\n",
        "h_test = hypothesis(w,X_test,m_test)\n",
        "hyp_refine(h_test,m_test)\n",
        "TP = np.sum(h_test * Y_test)\n",
        "FP = np.sum(h_test * (1-Y_test))\n",
        "FN = np.sum((1-h_test) * Y_test)\n",
        "TN = np.sum((1-h_test) * (1-Y_test))\n",
        "\n",
        "sensitivity = TP/(TP + FN)\n",
        "specificity = TN/(TN + FP)\n",
        "accuracy = (TP + TN)*100/(TP + TN + FP + FN)\n",
        "print(\"Sensitivity :\",sensitivity)\n",
        "print(\"Specificity :\",specificity)\n",
        "print(\"Accuracy    :\" ,accuracy,\"percent\")"
      ],
      "execution_count": 9,
      "outputs": [
        {
          "output_type": "stream",
          "text": [
            "Sensitivity : 1.0\n",
            "Specificity : 1.0\n",
            "Accuracy    : 100.0 percent\n"
          ],
          "name": "stdout"
        }
      ]
    }
  ]
}