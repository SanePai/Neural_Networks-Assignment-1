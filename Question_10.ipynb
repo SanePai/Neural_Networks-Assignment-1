{
  "nbformat": 4,
  "nbformat_minor": 0,
  "metadata": {
    "colab": {
      "name": "Question 10.ipynb",
      "provenance": [],
      "collapsed_sections": [],
      "mount_file_id": "1py4wrZ2w_tY98PdFHccViPCqwz8pgzde",
      "authorship_tag": "ABX9TyPHMcGmKpWesUm3uigRGoee",
      "include_colab_link": true
    },
    "kernelspec": {
      "name": "python3",
      "display_name": "Python 3"
    }
  },
  "cells": [
    {
      "cell_type": "markdown",
      "metadata": {
        "id": "view-in-github",
        "colab_type": "text"
      },
      "source": [
        "<a href=\"https://colab.research.google.com/github/SanePai/Neural_Networks-Assignment-1/blob/master/Question_10.ipynb\" target=\"_parent\"><img src=\"https://colab.research.google.com/assets/colab-badge.svg\" alt=\"Open In Colab\"/></a>"
      ]
    },
    {
      "cell_type": "code",
      "metadata": {
        "id": "4YrqlaYK4NcE",
        "outputId": "ecdceb18-abe3-4cd8-f68a-ffbe0ee9271f",
        "colab": {
          "base_uri": "https://localhost:8080/",
          "height": 87
        }
      },
      "source": [
        "%cd /content/drive/'My Drive'/NNFL\n",
        "!ls"
      ],
      "execution_count": 1,
      "outputs": [
        {
          "output_type": "stream",
          "text": [
            "/content/drive/My Drive/NNFL\n",
            "assignment1.pdf  data4.xlsx\t\t   training_feature_matrix.xlsx\n",
            "data2.xlsx\t test_feature_matrix.xlsx  training_output.xlsx\n",
            "data3.xlsx\t test_output.xlsx\n"
          ],
          "name": "stdout"
        }
      ]
    },
    {
      "cell_type": "code",
      "metadata": {
        "id": "-EuZHEFv3vhX"
      },
      "source": [
        "import pandas as pd\n",
        "import math \n",
        "import numpy as np"
      ],
      "execution_count": 2,
      "outputs": []
    },
    {
      "cell_type": "code",
      "metadata": {
        "id": "mGzSKDoev-1b"
      },
      "source": [
        "def col(array, i):\n",
        "  '''Returns a specific column of an array'''\n",
        "  return [row[i] for row in array]\n",
        "\n",
        "def mean(array): \n",
        "  '''Returns mean of an array'''\n",
        "  m = []\n",
        "  for i in range(4):\n",
        "      m.append(sum(col(array,i))/len(col(array,i)))\n",
        "  return m\n",
        "\n",
        "#LRT\n",
        "def rule(x_ts,x,y):\n",
        "  p1 = len([i for (i, val) in enumerate(y) if val == 1])\n",
        "  p2 = len([i for (i, val) in enumerate(y) if val == 2])\n",
        "  p1, p2 = p1/(len(y)), p2/(len(y))\n",
        "  x1 = np.array([x[i] for (i, val) in enumerate(y) if val == 1])\n",
        "  x2 = np.array([x[i] for (i, val) in enumerate(y) if val == 2])\n",
        "  m1 = mean(x1)\n",
        "  m2 = mean(x2)\n",
        "  cov1 = np.cov(x1.T)\n",
        "  cov2 = np.cov(x2.T)\n",
        "  coeff1 = 1/(((2*3.14)**2)*np.linalg.det(cov1)**0.5)\n",
        "  coeff2 = 1/(((2*3.14)**2)*np.linalg.det(cov2)**0.5)\n",
        "  l1 = coeff1*np.exp(-0.5*np.dot(np.dot((x_ts - m1),np.linalg.inv(cov1)),(x_ts - m1).T))\n",
        "  l2 = coeff2*np.exp(-0.5*np.dot(np.dot((x_ts - m2),np.linalg.inv(cov2)),(x_ts - m2).T))\n",
        "  if (l1/p2) > (l2/p1):\n",
        "      return 1\n",
        "  else:\n",
        "      return 2\n",
        "  \n",
        "def confmat(y_pred,y_ts):\n",
        "  a, b, c, d = 0, 0, 0, 0\n",
        "  for i in range(len(y_ts)):\n",
        "      if y_ts[i] == 1:\n",
        "          if y_pred[i] == 1:\n",
        "              a = a + 1\n",
        "          if y_pred[i] == 2:\n",
        "              b = b + 1\n",
        "      if y_ts[i] == 2:\n",
        "          if y_pred[i] == 1:\n",
        "              c = c + 1\n",
        "          if y_pred[i] == 2:\n",
        "              d = d + 1\n",
        "  return a, b, c, d"
      ],
      "execution_count": 3,
      "outputs": []
    },
    {
      "cell_type": "code",
      "metadata": {
        "id": "3dmQhEak4ZDk",
        "outputId": "6af99504-b183-48bd-8fcc-8cfba99a5ed5",
        "colab": {
          "base_uri": "https://localhost:8080/",
          "height": 34
        }
      },
      "source": [
        "data = pd.read_excel('data3.xlsx',header=None)\n",
        "data = np.asarray(data)\n",
        "np.random.shuffle(data)\n",
        "print(type(data))\n",
        "x = data[:,:-1]\n",
        "y = data[:,-1]\n",
        "x_tr, x_ts = x[:60], x[60:]\n",
        "y_tr, y_ts = y[:60], y[60:]"
      ],
      "execution_count": 4,
      "outputs": [
        {
          "output_type": "stream",
          "text": [
            "<class 'numpy.ndarray'>\n"
          ],
          "name": "stdout"
        }
      ]
    },
    {
      "cell_type": "code",
      "metadata": {
        "id": "OqDX2WsK4cDP",
        "outputId": "4423931c-bb42-4b6b-f5a1-b065db4b87f2",
        "colab": {
          "base_uri": "https://localhost:8080/",
          "height": 140
        }
      },
      "source": [
        "y_pred = []\n",
        "for i in range(len(x_ts)):\n",
        "  y_pred.append(rule(x_ts[i],x_tr,y_tr))\n",
        "\n",
        "a, b, c, d = confmat(y_pred,y_ts)\n",
        "acc = (a+d)/(a+b+c+d)\n",
        "sens = (a)/(a+b)\n",
        "spec = (d)/(d+c)\n",
        "#Class 1 positive\n",
        "#Class 2 Negative\n",
        "print('TP: ',a,'\\nFP: ',c,'\\nTN: ',d,'\\nFN: ',b)\n",
        "print('accuracy: ',acc,'\\nsensitivity: ',sens,'\\nspecificity: ',spec)"
      ],
      "execution_count": 5,
      "outputs": [
        {
          "output_type": "stream",
          "text": [
            "TP:  18 \n",
            "FP:  0 \n",
            "TN:  22 \n",
            "FN:  0\n",
            "accuracy:  1.0 \n",
            "sensitivity:  1.0 \n",
            "specificity:  1.0\n"
          ],
          "name": "stdout"
        }
      ]
    },
    {
      "cell_type": "code",
      "metadata": {
        "id": "o9fAcIkg4yKx"
      },
      "source": [
        ""
      ],
      "execution_count": 5,
      "outputs": []
    }
  ]
}