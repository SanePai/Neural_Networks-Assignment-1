{
  "nbformat": 4,
  "nbformat_minor": 0,
  "metadata": {
    "colab": {
      "name": "Question 11.ipynb",
      "provenance": [],
      "collapsed_sections": [],
      "mount_file_id": "1LYZu7UpHKsIyxePYXuSiFa20MBnp9hlE",
      "authorship_tag": "ABX9TyOmcueLAFSM/7+gIOo+DbE/",
      "include_colab_link": true
    },
    "kernelspec": {
      "name": "python3",
      "display_name": "Python 3"
    }
  },
  "cells": [
    {
      "cell_type": "markdown",
      "metadata": {
        "id": "view-in-github",
        "colab_type": "text"
      },
      "source": [
        "<a href=\"https://colab.research.google.com/github/SanePai/Neural_Networks-Assignment-1/blob/master/Question_11.ipynb\" target=\"_parent\"><img src=\"https://colab.research.google.com/assets/colab-badge.svg\" alt=\"Open In Colab\"/></a>"
      ]
    },
    {
      "cell_type": "code",
      "metadata": {
        "id": "584BOz6zhrAe",
        "outputId": "111f6878-1d7e-41ec-d55a-eb3839d5dd5b",
        "colab": {
          "base_uri": "https://localhost:8080/",
          "height": 87
        }
      },
      "source": [
        "%cd /content/drive/'My Drive'/NNFL/\n",
        "!ls"
      ],
      "execution_count": null,
      "outputs": [
        {
          "output_type": "stream",
          "text": [
            "/content/drive/My Drive/NNFL\n",
            "assignment1.pdf  data4.xlsx\t\t   training_feature_matrix.xlsx\n",
            "data2.xlsx\t test_feature_matrix.xlsx  training_output.xlsx\n",
            "data3.xlsx\t test_output.xlsx\n"
          ],
          "name": "stdout"
        }
      ]
    },
    {
      "cell_type": "code",
      "metadata": {
        "id": "hKaZYjFTibZS"
      },
      "source": [
        "import pandas as pd\n",
        "import random\n",
        "import numpy as np\n",
        "import matplotlib.pyplot as plt\n",
        "from numpy import linalg\n",
        "import math\n",
        "from sklearn.model_selection import train_test_split"
      ],
      "execution_count": null,
      "outputs": []
    },
    {
      "cell_type": "code",
      "metadata": {
        "id": "HQj0jZbl3IH0"
      },
      "source": [
        "def col(array, i):\n",
        "  '''Returns a column'''\n",
        "  return [row[i] for row in array]\n",
        "\n",
        "def mean(array):\n",
        "  '''Mean of a given array'''\n",
        "  m = []\n",
        "  for i in range(7):\n",
        "      m.append(sum(col(array,i))/len(col(array,i)))\n",
        "  return m\n",
        "\n",
        "#LRT\n",
        "def rule(x_ts,x,y):\n",
        "  p1 = len([i for (i, val) in enumerate(y) if val == 1])\n",
        "  p2 = len([i for (i, val) in enumerate(y) if val == 2])\n",
        "  p3 = len([i for (i, val) in enumerate(y) if val == 3])\n",
        "  # priors P(y)\n",
        "  p1, p2, p3 = p1/(len(y)), p2/(len(y)), p3/(len(y))\n",
        "  x1 = np.array([x[i] for (i, val) in enumerate(y) if val == 1])\n",
        "  x2 = np.array([x[i] for (i, val) in enumerate(y) if val == 2])\n",
        "  x3 = np.array([x[i] for (i, val) in enumerate(y) if val == 3])\n",
        "  # evidence P(x)\n",
        "  e1, e2, e3 = len(x1)/(len(x)), len(x2)/(len(x)), len(x3)/(len(x))\n",
        "  m1 = mean(x1)\n",
        "  m2 = mean(x2)\n",
        "  m3 = mean(x3)\n",
        "  cov1 = np.cov(x1.T)\n",
        "  cov2 = np.cov(x2.T)\n",
        "  cov3 = np.cov(x3.T)\n",
        "  coeff1 = 1/(((2*3.14)**2)*np.linalg.det(cov1)**0.5)\n",
        "  coeff2 = 1/(((2*3.14)**2)*np.linalg.det(cov2)**0.5)\n",
        "  coeff3 = 1/(((2*3.14)**2)*np.linalg.det(cov3)**0.5)\n",
        "  # likelihoods P(x|y)\n",
        "  l1 = coeff1*np.exp(-0.5*np.dot(np.dot((x_ts - m1),np.linalg.inv(cov1)),(x_ts - m1).T))\n",
        "  l2 = coeff2*np.exp(-0.5*np.dot(np.dot((x_ts - m2),np.linalg.inv(cov2)),(x_ts - m2).T))\n",
        "  l3 = coeff3*np.exp(-0.5*np.dot(np.dot((x_ts - m3),np.linalg.inv(cov3)),(x_ts - m3).T))\n",
        "  # Posteriors P(y|x)\n",
        "  prob1, prob2, prob3 = (l1*p1)/e1, (l2*p2)/e2, (l3*p3)/e3\n",
        "  if max(prob1,prob2,prob3) == prob1:\n",
        "      return 1\n",
        "  elif max(prob1,prob2,prob3) == prob2:\n",
        "      return 2\n",
        "  else:\n",
        "      return 3"
      ],
      "execution_count": null,
      "outputs": []
    },
    {
      "cell_type": "code",
      "metadata": {
        "id": "1I8OOA56uSPQ",
        "outputId": "38acc5b3-a536-42df-fa25-933135d83d9f",
        "colab": {
          "base_uri": "https://localhost:8080/",
          "height": 34
        }
      },
      "source": [
        "data = pd.read_excel('data4.xlsx',header=None)\n",
        "data = np.asarray(data)\n",
        "np.random.shuffle(data)\n",
        "print(type(data))\n",
        "x = data[:,:-1]\n",
        "y = data[:,-1]\n",
        "x_tr, xts = x[:105], x[105:]\n",
        "y_tr, t_ts = y[:105], y[105:]\n"
      ],
      "execution_count": null,
      "outputs": [
        {
          "output_type": "stream",
          "text": [
            "<class 'numpy.ndarray'>\n"
          ],
          "name": "stdout"
        }
      ]
    },
    {
      "cell_type": "code",
      "metadata": {
        "id": "imIS0n3d3MCC",
        "outputId": "0fe61a80-b277-406e-dfd4-0c1c81aab979",
        "colab": {
          "base_uri": "https://localhost:8080/",
          "height": 105
        }
      },
      "source": [
        "y_pred = []\n",
        "for i in range(len(x_ts)):\n",
        "  y_pred.append(rule(x_ts[i],x_tr,y_tr))\n",
        "\n",
        "y_actual = pd.Series(y_ts, name='Actual')\n",
        "y_pred = pd.Series(y_pred, name='Predicted')\n",
        "confmat = pd.crosstab(y_actual, y_pred)\n",
        "print(confmat)\n",
        "confmat = np.asarray(confmat)\n",
        "Acc = (confmat[0][0] + confmat[1][1] + confmat[2][2])/sum(sum(confmat))\n",
        "Acc1 = confmat[0][0]/sum(confmat[0])\n",
        "Acc2 = confmat[1][1]/sum(confmat[1])\n",
        "Acc3 = confmat[2][2]/sum(confmat[2])\n"
      ],
      "execution_count": null,
      "outputs": [
        {
          "output_type": "stream",
          "text": [
            "Predicted   1   2   3\n",
            "Actual               \n",
            "1.0        10   0   0\n",
            "2.0         0  20   1\n",
            "3.0         0   0  14\n"
          ],
          "name": "stdout"
        }
      ]
    },
    {
      "cell_type": "code",
      "metadata": {
        "id": "qycjCpVx3Onq",
        "outputId": "41fc423c-ea7b-436d-ad81-2b68d6773371",
        "colab": {
          "base_uri": "https://localhost:8080/",
          "height": 87
        }
      },
      "source": [
        "print('Overall Accuracy : ' + str(Acc))\n",
        "print('Accuracy of class 1 : ' + str(Acc1))\n",
        "print('Accuracy of class 2 : ' + str(Acc2))\n",
        "print('Accuracy of class 3 : ' + str(Acc3))"
      ],
      "execution_count": null,
      "outputs": [
        {
          "output_type": "stream",
          "text": [
            "Overall Accuracy : 0.9777777777777777\n",
            "Accuracy of class 1 : 1.0\n",
            "Accuracy of class 2 : 0.9523809523809523\n",
            "Accuracy of class 3 : 1.0\n"
          ],
          "name": "stdout"
        }
      ]
    }
  ]
}