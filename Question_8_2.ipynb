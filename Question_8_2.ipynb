{
  "nbformat": 4,
  "nbformat_minor": 0,
  "metadata": {
    "colab": {
      "name": "Question 8_2.ipynb",
      "provenance": [],
      "collapsed_sections": [],
      "mount_file_id": "1QUXzG8-b5qgVL4wNIlA5LCRPsHGnbCUP",
      "authorship_tag": "ABX9TyN8yS/rUAG10tI2Z+2sZPEQ",
      "include_colab_link": true
    },
    "kernelspec": {
      "name": "python3",
      "display_name": "Python 3"
    }
  },
  "cells": [
    {
      "cell_type": "markdown",
      "metadata": {
        "id": "view-in-github",
        "colab_type": "text"
      },
      "source": [
        "<a href=\"https://colab.research.google.com/github/SanePai/Neural_Networks-Assignment-1/blob/master/Question_8_2.ipynb\" target=\"_parent\"><img src=\"https://colab.research.google.com/assets/colab-badge.svg\" alt=\"Open In Colab\"/></a>"
      ]
    },
    {
      "cell_type": "code",
      "metadata": {
        "id": "ZT9oQyvJ_8TX",
        "outputId": "aecb0b6a-6ead-47c0-d50f-c06575a49247",
        "colab": {
          "base_uri": "https://localhost:8080/",
          "height": 87
        }
      },
      "source": [
        "%cd \"/content/drive/My Drive/NNFL\"\n",
        "!ls"
      ],
      "execution_count": 1,
      "outputs": [
        {
          "output_type": "stream",
          "text": [
            "/content/drive/My Drive/NNFL\n",
            "assignment1.pdf  data4.xlsx\t\t   training_feature_matrix.xlsx\n",
            "data2.xlsx\t test_feature_matrix.xlsx  training_output.xlsx\n",
            "data3.xlsx\t test_output.xlsx\n"
          ],
          "name": "stdout"
        }
      ]
    },
    {
      "cell_type": "code",
      "metadata": {
        "id": "TdMP_4WJ-Ph4"
      },
      "source": [
        "import pandas as pd\n",
        "import math \n",
        "import numpy as np"
      ],
      "execution_count": 2,
      "outputs": []
    },
    {
      "cell_type": "code",
      "metadata": {
        "id": "UhEtFdkm_JYA"
      },
      "source": [
        "def getcol(data,c):\n",
        "  col = []\n",
        "  for i in range(len(data)):\n",
        "      col.append(data[i][c])\n",
        "  return col\n",
        "\n",
        "def set(y):\n",
        "  for i in range(len(y)):\n",
        "      if(y[i]>=0.5):\n",
        "          y[i] = 1\n",
        "      if(y[i]<0.5):\n",
        "          y[i] = 0\n",
        "  return y\n",
        "\n",
        "def sigmoid(x):\n",
        "  return 1.0 / (1.0 + np.exp(-x))\n",
        "\n",
        "def wtupdate(m1,m2,m3,m4,m5,m6,m7,c,x,y):\n",
        "  sumvm1 = 0\n",
        "  sumvm2 = 0\n",
        "  sumvm3 = 0\n",
        "  sumvm4 = 0\n",
        "  sumvm5 = 0\n",
        "  sumvm6 = 0\n",
        "  sumvm7 = 0\n",
        "  sumvc = 0\n",
        "  yp = [0 for i in range(len(x))]\n",
        "  for i in range(len(x)):\n",
        "      yp[i] = (m1*x[i,0]) + (m2*x[i,1]) + (m3*x[i,2]) + (m4*x[i,3]) + (m5*x[i,4]) + (m6*x[i,5]) + (m7*x[i,6]) + c\n",
        "      yp[i] = sigmoid(yp[i])\n",
        "      sumvm1 = sumvm1 - (y[i]-yp[i])*x[i,0]\n",
        "      sumvm2 = sumvm2 - (y[i]-yp[i])*x[i,1]\n",
        "      sumvm3 = sumvm3 - (y[i]-yp[i])*x[i,2]\n",
        "      sumvm4 = sumvm4 - (y[i]-yp[i])*x[i,3]\n",
        "      sumvm5 = sumvm5 - (y[i]-yp[i])*x[i,4]\n",
        "      sumvm6 = sumvm6 - (y[i]-yp[i])*x[i,5]\n",
        "      sumvm7 = sumvm7 - (y[i]-yp[i])*x[i,6]\n",
        "      sumvc = sumvc - (y[i]-yp[i])\n",
        "  m1 = m1 - 0.1*sumvm1\n",
        "  m2 = m2 - 0.1*sumvm2\n",
        "  m3 = m3 - 0.1*sumvm3\n",
        "  m4 = m4 - 0.1*sumvm4\n",
        "  m5 = m5 - 0.1*sumvm5\n",
        "  m6 = m6 - 0.1*sumvm6\n",
        "  m7 = m7 - 0.1*sumvm7\n",
        "  c = c - 0.1*sumvc\n",
        "  return m1,m2,m3,m4,m5,m6,m7,c\n",
        "\n",
        "# A function to return the slope and intercept of y^\n",
        "def linreg(x,y):\n",
        "  m1 = 0\n",
        "  m2 = 0\n",
        "  m3 = 0\n",
        "  m4 = 0\n",
        "  m5 = 0\n",
        "  m6 = 0\n",
        "  m7 = 0\n",
        "  c = 0\n",
        "  iters = 2000\n",
        "  i = 0\n",
        "  while(i<iters):\n",
        "      m1,m2,m3,m4,m5,m6,m7,c = wtupdate(m1,m2,m3,m4,m5,m6,m7,c,x,y)\n",
        "      i = i+1\n",
        "  return m1,m2,m3,m4,m5,m6,m7,c\n",
        "\n",
        "#Normalization\n",
        "def norm(data):\n",
        "  ndata = data\n",
        "  for i in range(7):\n",
        "      maxval = max(getcol(data,i))\n",
        "      minval = min(getcol(data,i))\n",
        "      for j in range(len(data)):\n",
        "          ndata[j][i] = (data[j][i]-minval)/((maxval-minval)+0.05)\n",
        "  return ndata"
      ],
      "execution_count": 3,
      "outputs": []
    },
    {
      "cell_type": "code",
      "metadata": {
        "id": "s1udGJaBvXSp",
        "outputId": "16866891-cc20-473f-e76e-89e641d68d39",
        "colab": {
          "base_uri": "https://localhost:8080/",
          "height": 105
        }
      },
      "source": [
        "data = pd.read_excel('data4.xlsx',header=None)\n",
        "data = np.asarray(data)\n",
        "np.random.shuffle(data)\n",
        "y = data[:,-1]\n",
        "data = norm(data)\n",
        "x = data[:,:-1]\n",
        "\n",
        "# split into testing and training sets\n",
        "x_tr, x_ts = x[:90], x[90:]\n",
        "y_tr, y_ts = y[:90], y[90:]\n",
        "\n",
        "y1_tr = [] # class 1 vs class 2\n",
        "y2_tr = [] # class 1 vs class 3\n",
        "y3_tr = [] # class 2 vs class 3\n",
        "x1_tr = []\n",
        "x2_tr = []\n",
        "x3_tr = []\n",
        "for i in range(len(y_tr)):\n",
        "  if(y_tr[i] != 3):\n",
        "      y1_tr.append(y_tr[i])\n",
        "      x1_tr.append(x_tr[i])\n",
        "  if(y_tr[i] != 2):\n",
        "      y2_tr.append(y_tr[i])\n",
        "      x2_tr.append(x_tr[i])\n",
        "  if(y_tr[i] != 1):\n",
        "      y3_tr.append(y_tr[i])\n",
        "      x3_tr.append(x_tr[i])\n",
        "\n",
        "x1_tr = np.asarray(x1_tr)\n",
        "x2_tr = np.asarray(x2_tr)\n",
        "x3_tr = np.asarray(x3_tr)\n",
        "\n",
        "# for 1 vs 2, we take 1 as positive\n",
        "for i in range(len(y1_tr)):\n",
        "  if y1_tr[i] == 1:\n",
        "    y1_tr[i] = 1\n",
        "  else:\n",
        "    y1_tr[i] = 0 \n",
        "\n",
        "# for 1 vs 3, we take 3 as positive\n",
        "for i in range(len(y2_tr)):\n",
        "  if y2_tr[i] == 3:\n",
        "      y2_tr[i] = 1\n",
        "  else:\n",
        "      y2_tr[i] = 0 \n",
        "\n",
        "# for 2 vs 3, we take 2 as positive\n",
        "for i in range(len(y3_tr)):\n",
        "  if y3_tr[i] == 2:\n",
        "      y3_tr[i] = 1\n",
        "  else:\n",
        "      y3_tr[i] = 0 \n",
        "\n",
        "x = x_ts\n",
        "\n",
        "m1,m2,m3,m4,m5,m6,m7,c = linreg(x1_tr,y1_tr)\n",
        "yp1 = [0 for i in range(len(x))]\n",
        "for i in range(len(x)):\n",
        "  yp1[i] = (m1*x[i,0]) + (m2*x[i,1]) + (m3*x[i,2]) + (m4*x[i,3]) + (m5*x[i,4]) + (m6*x[i,5]) + (m7*x[i,6]) + c\n",
        "  yp1[i] = sigmoid(yp1[i])\n",
        "yp1 = set(yp1)\n",
        "\n",
        "m1,m2,m3,m4,m5,m6,m7,c = linreg(x2_tr,y2_tr)\n",
        "yp2 = [0 for i in range(len(x))]\n",
        "for i in range(len(x)):\n",
        "  yp2[i] = (m1*x[i,0]) + (m2*x[i,1]) + (m3*x[i,2]) + (m4*x[i,3]) + (m5*x[i,4]) + (m6*x[i,5]) + (m7*x[i,6]) + c\n",
        "  yp2[i] = sigmoid(yp2[i])\n",
        "yp2 = set(yp2)\n",
        "\n",
        "m1,m2,m3,m4,m5,m6,m7,c = linreg(x3_tr,y3_tr)\n",
        "yp3 = [0 for i in range(len(x))]\n",
        "for i in range(len(x)):\n",
        "  yp3[i] = (m1*x[i,0]) + (m2*x[i,1]) + (m3*x[i,2]) + (m4*x[i,3]) + (m5*x[i,4]) + (m6*x[i,5]) + (m7*x[i,6]) + c\n",
        "  yp3[i] = sigmoid(yp3[i])\n",
        "yp3 = set(yp3)\n",
        "\n",
        "\n",
        "cval = [0 for i in range(len(y_ts))]\n",
        "for i in range(len(y_ts)):\n",
        "  if (yp1[i] == 1 and yp2[i] == 0):\n",
        "      cval[i] = 1.0\n",
        "  if (yp1[i] == 0 and yp3[i] == 1):\n",
        "      cval[i] = 2.0\n",
        "  if (yp2[i] == 1 and yp3[i] == 0):\n",
        "      cval[i] = 3.0\n",
        "\n",
        "\n",
        "for i in range(len(cval)):\n",
        "  if (cval[i] == 0):\n",
        "      cval[i] = 'None'\n",
        "y_actual = pd.Series(y_ts, name='Actual')\n",
        "y_pred = pd.Series(cval, name='Predicted')\n",
        "confmat = pd.crosstab(y_actual, y_pred)\n",
        "print(confmat)\n",
        "\n"
      ],
      "execution_count": 4,
      "outputs": [
        {
          "output_type": "stream",
          "text": [
            "Predicted  1.0  2.0  3.0\n",
            "Actual                  \n",
            "1.0         25    0    0\n",
            "2.0          0   17    2\n",
            "3.0          0    1   15\n"
          ],
          "name": "stdout"
        }
      ]
    },
    {
      "cell_type": "code",
      "metadata": {
        "id": "RIw5p8fv_6mW",
        "outputId": "5b2e387b-4b87-43e2-d73c-e473ed648fb4",
        "colab": {
          "base_uri": "https://localhost:8080/",
          "height": 87
        }
      },
      "source": [
        "confmat = np.asarray(confmat)\n",
        "Acc = (confmat[0][0] + confmat[1][1] + confmat[2][2])/sum(sum(confmat))\n",
        "Acc1 = confmat[0][0]/sum(confmat[0])\n",
        "Acc2 = confmat[1][1]/sum(confmat[1])\n",
        "Acc3 = confmat[2][2]/sum(confmat[2])\n",
        "print('Overall Accuracy : ' + str(Acc))\n",
        "print('Accuracy of class 1 : ' + str(Acc1))\n",
        "print('Accuracy of class 2 : ' + str(Acc2))\n",
        "print('Accuracy of class 3 : ' + str(Acc3))"
      ],
      "execution_count": 5,
      "outputs": [
        {
          "output_type": "stream",
          "text": [
            "Overall Accuracy : 0.95\n",
            "Accuracy of class 1 : 1.0\n",
            "Accuracy of class 2 : 0.8947368421052632\n",
            "Accuracy of class 3 : 0.9375\n"
          ],
          "name": "stdout"
        }
      ]
    }
  ]
}